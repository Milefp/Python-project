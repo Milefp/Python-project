{
 "cells": [
  {
   "cell_type": "code",
   "execution_count": null,
   "metadata": {},
   "outputs": [],
   "source": [
    "#Credit evaluation (non debtor, salary)\n",
    "#Evaluate salary >= minimum_salary\n",
    "#\n",
    "# +--------------------+\n",
    "# +  Python loans      +\n",
    "# +--------------------+\n",
    "# Please enter your salary: <- This can be a printf\n",
    "# (what the clients enters as salary goes into a variable) <- an input\n",
    "# Then show the salary variable \n",
    "\n",
    "def message():\n",
    "    print('+--------------------+')\n",
    "    print('+  Python loans      +')\n",
    "    print('+--------------------+')\n",
    "\n",
    "message()\n",
    "\n",
    "#Define variable minimum_salary\n",
    "minimum_salary = 25000 \n",
    "\n",
    "print ('Please enter your salary')\n",
    "salary = int(input())\n",
    "\n",
    "while not isinstance(salary, int):\n",
    "    print ('Please enter your salary')\n",
    "    salary = input()\n",
    "    try:\n",
    "        salary = int(salary)\n",
    "    except:\n",
    "        salary = '---'\n",
    "        \n",
    "\n",
    "if salary >= minimum_salary:\n",
    "    print ('Yes, you can apply for a loan')\n",
    "else:\n",
    "    print ('You dont have a loan available')\n",
    "\n",
    "input()"
   ]
  }
 ],
 "metadata": {
  "kernelspec": {
   "display_name": "Python 3.10.1 64-bit",
   "language": "python",
   "name": "python3"
  },
  "language_info": {
   "codemirror_mode": {
    "name": "ipython",
    "version": 3
   },
   "file_extension": ".py",
   "mimetype": "text/x-python",
   "name": "python",
   "nbconvert_exporter": "python",
   "pygments_lexer": "ipython3",
   "version": "3.10.1"
  },
  "orig_nbformat": 4,
  "vscode": {
   "interpreter": {
    "hash": "ff71605282bde3df73849258c1207d9d172a38f71e707bfaaf70435c56e1f2fa"
   }
  }
 },
 "nbformat": 4,
 "nbformat_minor": 2
}
